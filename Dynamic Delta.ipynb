{
 "cells": [
  {
   "cell_type": "code",
   "execution_count": 1,
   "metadata": {},
   "outputs": [],
   "source": [
    "#install pandas\n",
    "#install pandas\n",
    "import math\n",
    "import numpy as np\n",
    "import scipy as sp\n",
    "import numpy.random as npr  \n",
    "import scipy.stats as scs\n",
    "import matplotlib.pyplot as plt\n",
    "import numpy.random as npr\n",
    "import datetime\n",
    "import pandas as pd\n",
    "from mpl_toolkits.mplot3d import Axes3D\n",
    "from numpy.fft import *\n",
    "import seaborn as sns\n",
    "import os\n",
    "from multiprocessing import Process\n",
    "from multiprocessing import current_process\n",
    "#seaborn.set_style(\"ticks\")\n",
    "from scipy import integrate"
   ]
  },
  {
   "cell_type": "code",
   "execution_count": 2,
   "metadata": {},
   "outputs": [],
   "source": [
    "# SVCJ parameters\n",
    "mu      = 0.042\n",
    "r       = mu\n",
    "mu_y    = -0.0492\n",
    "sigma_y = 2.061\n",
    "l       = 0.0515\n",
    "alpha   = 0.0102\n",
    "beta    = -0.188\n",
    "rho     = 0.275\n",
    "sigma_v = 0.007\n",
    "rho_j   = -0.210\n",
    "mu_v    = 0.709\n",
    "v0      = 0.19**2 \n",
    "kappa   = 1-beta\n",
    "theta   = alpha / kappa"
   ]
  },
  {
   "cell_type": "code",
   "execution_count": 3,
   "metadata": {},
   "outputs": [],
   "source": [
    "npr.seed(12345)\n",
    "dt      = 1/360.0 # dt\n",
    "m       = int(360.0 * (1/dt)/360.0) # time horizon in days\n",
    "n       = 1000000\n",
    "\n",
    "#for trials\n",
    "#dt = 1/10\n",
    "#n= 1000\n",
    "#m = int(10*(1/dt)/10)"
   ]
  },
  {
   "cell_type": "code",
   "execution_count": 4,
   "metadata": {},
   "outputs": [],
   "source": [
    "T      = m * dt\n",
    "t      = np.arange(0,T+dt, dt)"
   ]
  },
  {
   "cell_type": "code",
   "execution_count": 5,
   "metadata": {},
   "outputs": [],
   "source": [
    "w      = npr.standard_normal([n,m])\n",
    "w2     = rho * w + sp.sqrt(1-rho**2) * npr.standard_normal([n,m])\n",
    "z_v    = npr.exponential(mu_v, [n,m])\n",
    "z_y    = npr.standard_normal([n,m]) * sigma_y + mu_y + rho_j * z_v\n",
    "dj     = npr.binomial(1, l * dt, size=[n,m])\n",
    "s      = np.zeros([n,m+1])\n",
    "v      = np.zeros([n,m+1])"
   ]
  },
  {
   "cell_type": "code",
   "execution_count": null,
   "metadata": {},
   "outputs": [],
   "source": [
    "s0     = 6500\n",
    "k      = 5600\n",
    "s[:,0] = s0 # initial CRIX level, p. 20\n",
    "v[:,0] = v0"
   ]
  },
  {
   "cell_type": "code",
   "execution_count": null,
   "metadata": {},
   "outputs": [
    {
     "name": "stderr",
     "output_type": "stream",
     "text": [
      "C:\\ProgramData\\Anaconda\\lib\\site-packages\\ipykernel_launcher.py:3: ComplexWarning: Casting complex values to real discards the imaginary part\n",
      "  This is separate from the ipykernel package so we can avoid doing imports until\n"
     ]
    }
   ],
   "source": [
    "for i in range(1,m+1):\n",
    "    v[:,i] = v[:,i-1] + kappa * (theta - np.maximum(0,v[:,i-1])) * dt + sigma_v * sp.sqrt(np.maximum(0,v[:,i-1])) * w2[:,i-1] + z_v[:,i-1] * dj[:,i-1]\n",
    "    s[:,i] = s[:,i-1] * (1 + (r - l * (mu_y + rho_j * mu_v)) * dt + sp.sqrt(v[:,i-1] * dt) * w[:,i-1]) + z_v[:,i-1] * dj[:,i-1]"
   ]
  },
  {
   "cell_type": "code",
   "execution_count": null,
   "metadata": {},
   "outputs": [],
   "source": [
    "plt.plot(np.transpose(s[:100]));\n",
    "plt.xlabel('time step')\n",
    "plt.ylabel('asset price process')\n",
    "plt.savefig('assetpath',transparent=T)"
   ]
  },
  {
   "cell_type": "code",
   "execution_count": null,
   "metadata": {},
   "outputs": [],
   "source": [
    "plt.plot(np.transpose(sp.sqrt(v[:70])));\n",
    "plt.xlabel('time step')\n",
    "plt.ylabel('volatility process')\n",
    "plt.savefig('exactassetpath',transparent=T)"
   ]
  },
  {
   "cell_type": "code",
   "execution_count": null,
   "metadata": {},
   "outputs": [],
   "source": [
    "# Option pricing \n",
    "cp    = np.exp(-mu * m * dt) * np.maximum(s[:,-1]-k,0).mean()\n",
    "cp\n"
   ]
  },
  {
   "cell_type": "code",
   "execution_count": null,
   "metadata": {},
   "outputs": [],
   "source": [
    "def call_and_vol(K, T): # T maturity in years\n",
    "    m = int(np.round(T / dt))\n",
    "    cp = np.exp(-r * m * dt) * np.maximum(s[:,-1]-K,0).mean()\n",
    "    iv = sp.optimize.minimize(solve, 0.4, args=(cp, K,T)).x[0]\n",
    "    return [cp, iv]\n",
    "\n",
    "\n",
    "\n"
   ]
  },
  {
   "cell_type": "code",
   "execution_count": 44,
   "metadata": {},
   "outputs": [],
   "source": [
    "def callprice(S,K,T,sigma,r):\n",
    "    d1 = (sp.log(S/K) + (r + 0.5 * sigma**2)*T) / (sigma * sp.sqrt(T))\n",
    "    d2 = (sp.log(S/K) + (r - 0.5 * sigma**2)*T) / (sigma * sp.sqrt(T))\n",
    "    return S*scs.norm.cdf(d1) - sp.exp(-r *T) * K * scs.norm.cdf(d2)\n"
   ]
  },
  {
   "cell_type": "code",
   "execution_count": 45,
   "metadata": {},
   "outputs": [
    {
     "data": {
      "text/plain": [
       "0.2161232866592463"
      ]
     },
     "execution_count": 45,
     "metadata": {},
     "output_type": "execute_result"
    }
   ],
   "source": [
    "#Implied volatility\n",
    "\n",
    "def solve(sigma, cp, k, T):\n",
    "    return (callprice(s0, k, T, sigma, r) - cp)**2\n",
    "\n",
    "result     = sp.optimize.minimize(solve, 0.2, args=(cp, k, T))\n",
    "impliedvol = result.x[0]\n",
    "impliedvol"
   ]
  },
  {
   "cell_type": "code",
   "execution_count": 46,
   "metadata": {},
   "outputs": [],
   "source": [
    "#greeks\n",
    "\n",
    "def deltafunc(S, K, T, sigma, r):\n",
    "    d1 = (sp.log(S/K) + (r + 0.5 * sigma**2)*T) / (sigma * sp.sqrt(T))\n",
    "    return scs.norm.cdf(d1) \n",
    "\n",
    "def gamma(S, K, T, sigma, r):\n",
    "    d1 = (sp.log(S/K) + (r + 0.5 * sigma**2)*T) / (sigma * sp.sqrt(T))\n",
    "    return scs.norm.pdf(d1) / (S * sigma * sp.sqrt(T))\n",
    "\n",
    "def vega(S, K, T, sigma, r):\n",
    "    d1 = (sp.log(S/K) + (r + 0.5 * sigma**2)*T) / (sigma * sp.sqrt(T))\n",
    "    return S * sp.sqrt(T) * scs.norm.pdf(d1)"
   ]
  },
  {
   "cell_type": "code",
   "execution_count": 47,
   "metadata": {},
   "outputs": [],
   "source": [
    "#Hedge \n",
    "\n",
    "bscall  = np.zeros([n,m+1])\n",
    "deltabs = np.zeros([n,m+1])\n",
    "ttm     = np.arange(1, m+1, 1)/m\n"
   ]
  },
  {
   "cell_type": "code",
   "execution_count": 48,
   "metadata": {},
   "outputs": [],
   "source": [
    "# Hedging \n",
    "\n",
    "bscall[:,0]     = callprice(s0, k, T, impliedvol, mu)\n",
    "deltabs[:,0]    = deltafunc(s0, k, T, impliedvol, mu)"
   ]
  },
  {
   "cell_type": "code",
   "execution_count": 49,
   "metadata": {},
   "outputs": [
    {
     "name": "stderr",
     "output_type": "stream",
     "text": [
      "C:\\ProgramData\\Anaconda\\lib\\site-packages\\ipykernel_launcher.py:2: RuntimeWarning: divide by zero encountered in true_divide\n",
      "  \n",
      "C:\\ProgramData\\Anaconda\\lib\\site-packages\\ipykernel_launcher.py:3: RuntimeWarning: divide by zero encountered in true_divide\n",
      "  This is separate from the ipykernel package so we can avoid doing imports until\n",
      "C:\\ProgramData\\Anaconda\\lib\\site-packages\\ipykernel_launcher.py:4: RuntimeWarning: divide by zero encountered in true_divide\n",
      "  after removing the cwd from sys.path.\n"
     ]
    }
   ],
   "source": [
    "for i in range(1,m+1):\n",
    "    bscall[:,i]  = callprice(s[:,i], k, T-ttm[i-1], impliedvol, mu)\n",
    "    deltabs[:,i] = deltafunc(s[:,i], k, T-ttm[i-1], impliedvol, mu)"
   ]
  },
  {
   "cell_type": "code",
   "execution_count": 50,
   "metadata": {},
   "outputs": [
    {
     "name": "stderr",
     "output_type": "stream",
     "text": [
      "C:\\ProgramData\\Anaconda\\lib\\site-packages\\ipykernel_launcher.py:4: RuntimeWarning: divide by zero encountered in true_divide\n",
      "  after removing the cwd from sys.path.\n"
     ]
    }
   ],
   "source": [
    "#code from https://www.maths.ox.ac.uk/system/files/attachments/M5_Delta%20Hedging%20using%20Merton%27s%20Jump%20Diffusion.pdf\n",
    "#correct results for \"known values\"\n",
    "st               = s[:,0]\n",
    "amount           = cp\n",
    "delta            = deltabs[:,0]\n",
    "Pnl              = amount - deltabs[:,0]*st\n",
    "interest         = np.exp(r* dt )\n",
    "\n",
    "for i in range(1,m+1):\n",
    "    t            = T-ttm[i-1]\n",
    "    Pnl          = interest *Pnl\n",
    "    newdelta     = deltafunc(s[:,i], k, t, impliedvol, mu)\n",
    "    Pnl          = Pnl - (newdelta-delta)*s[:,i]\n",
    "    delta        = newdelta\n",
    "\n",
    "Pnl              = Pnl* interest\n",
    "ST               = s[:,-1]\n",
    "PayoffCheck      = [k if sT >k  else 0 for sT in ST ]\n",
    "\n",
    "PnL_final        = [ Pnl[i]+ PayoffCheck[i] for i in range(len(Pnl))]\n",
    "delta_final      = [deltabs[i,-1] -1 if PayoffCheck[i] == k else deltabs[i,-1] for i in range(len(deltabs[:,-1]))]\n",
    "\n",
    "PnL_final        = PnL_final + delta_final * ST\n",
    "PnL_final        = PnL_final/cp\n"
   ]
  },
  {
   "cell_type": "code",
   "execution_count": 51,
   "metadata": {},
   "outputs": [],
   "source": [
    "#Lilis code from scratch\n",
    "interest           = np.exp(r*dt)\n",
    "balance            = cp - deltabs[:,0]*s[:,0]\n",
    "\n",
    "for i in range(1,m+1):\n",
    "    timetomaturity = T - ttm[i-1]\n",
    "    buy            = deltabs[:,i] - deltabs[:,i-1]\n",
    "    cost           = buy*s[:,i]\n",
    "    balance        = interest*balance - cost\n",
    "\n",
    "St                 = s[:,-1]\n",
    "liabilities        = np.array([st-k if st > k else 0 for st in St])\n",
    "\n",
    "balance            = interest*balance + (deltabs[:,-1])*s[:,-1] - np.array(liabilities)\n",
    "finalbank          = list(balance)\n",
    "\n",
    "finalbank          = [x/cp for x in finalbank]\n"
   ]
  },
  {
   "cell_type": "code",
   "execution_count": 52,
   "metadata": {},
   "outputs": [],
   "source": [
    "#Correctness check \"internet\" code vs. Lili Matic code\n",
    "\n",
    "#Comparison of floating points\n",
    "eps = 1e-16\n",
    "#list(abs(PnL_final-finalbank)<eps)\n"
   ]
  },
  {
   "cell_type": "code",
   "execution_count": 53,
   "metadata": {},
   "outputs": [
    {
     "name": "stderr",
     "output_type": "stream",
     "text": [
      "C:\\ProgramData\\Anaconda\\lib\\site-packages\\matplotlib\\axes\\_base.py:3610: MatplotlibDeprecationWarning: \n",
      "The `ymax` argument was deprecated in Matplotlib 3.0 and will be removed in 3.2. Use `top` instead.\n",
      "  alternative='`top`', obj_type='argument')\n",
      "C:\\ProgramData\\Anaconda\\lib\\site-packages\\matplotlib\\axes\\_base.py:3215: MatplotlibDeprecationWarning: \n",
      "The `xmin` argument was deprecated in Matplotlib 3.0 and will be removed in 3.2. Use `left` instead.\n",
      "  alternative='`left`', obj_type='argument')\n",
      "C:\\ProgramData\\Anaconda\\lib\\site-packages\\matplotlib\\axes\\_base.py:3221: MatplotlibDeprecationWarning: \n",
      "The `xmax` argument was deprecated in Matplotlib 3.0 and will be removed in 3.2. Use `right` instead.\n",
      "  alternative='`right`', obj_type='argument')\n"
     ]
    },
    {
     "data": {
      "image/png": "[encoded data removed]",
      "text/plain": [
       "<Figure size 432x288 with 1 Axes>"
      ]
     },
     "metadata": {
      "needs_background": "light"
     },
     "output_type": "display_data"
    },
    {
     "name": "stderr",
     "output_type": "stream",
     "text": [
      "C:\\ProgramData\\Anaconda\\lib\\site-packages\\matplotlib\\axes\\_base.py:3610: MatplotlibDeprecationWarning: \n",
      "The `ymax` argument was deprecated in Matplotlib 3.0 and will be removed in 3.2. Use `top` instead.\n",
      "  alternative='`top`', obj_type='argument')\n",
      "C:\\ProgramData\\Anaconda\\lib\\site-packages\\matplotlib\\axes\\_base.py:3215: MatplotlibDeprecationWarning: \n",
      "The `xmin` argument was deprecated in Matplotlib 3.0 and will be removed in 3.2. Use `left` instead.\n",
      "  alternative='`left`', obj_type='argument')\n",
      "C:\\ProgramData\\Anaconda\\lib\\site-packages\\matplotlib\\axes\\_base.py:3221: MatplotlibDeprecationWarning: \n",
      "The `xmax` argument was deprecated in Matplotlib 3.0 and will be removed in 3.2. Use `right` instead.\n",
      "  alternative='`right`', obj_type='argument')\n"
     ]
    },
    {
     "data": {
      "image/png": "[encoded data removed]",
      "text/plain": [
       "<Figure size 432x288 with 1 Axes>"
      ]
     },
     "metadata": {
      "needs_background": "light"
     },
     "output_type": "display_data"
    }
   ],
   "source": [
    "c, bins, patches = plt.hist(PnL_final, bins=400, color='b',alpha=0.7, rwidth=0.8)\n",
    "\n",
    "plt.xlabel('Relative profit')\n",
    "plt.ylabel('Frequency')\n",
    "plt.title('Black Scholes Delta Hedge Relative Profit and Loss internet code')\n",
    "\n",
    "maxfreq = c.max()\n",
    "plt.ylim(ymax = np.ceil(maxfreq / 10) * 10 if maxfreq % 10 else maxfreq + 10)\n",
    "plt.xlim(xmin = -0.3, xmax = 0.3)\n",
    "plt.savefig('PnLBSDeltaHedge1MioInternet',transparent=T)\n",
    "plt.show()\n",
    "\n",
    "c, bins, patches = plt.hist(x=finalbank, bins=400, color='r',alpha=0.7, rwidth=0.7)\n",
    "plt.xlabel('Relative profit')\n",
    "plt.ylabel('Frequency')\n",
    "plt.title('Black Scholes Delta Hedge Relative Profit and Loss Lilis code')\n",
    "maxfreq = c.max()\n",
    "# Set a clean upper y-axis limit.\n",
    "plt.ylim(ymax=np.ceil(maxfreq / 10) * 10 if maxfreq % 10 else maxfreq + 10)\n",
    "plt.xlim(xmin = -0.3, xmax=0.3)\n",
    "plt.savefig('PnLBSDeltaHedge1MioLili',transparent=T)\n",
    "plt.show()\n"
   ]
  },
  {
   "cell_type": "code",
   "execution_count": null,
   "metadata": {},
   "outputs": [],
   "source": []
  },
  {
   "cell_type": "code",
   "execution_count": null,
   "metadata": {},
   "outputs": [],
   "source": []
  },
  {
   "cell_type": "code",
   "execution_count": null,
   "metadata": {},
   "outputs": [],
   "source": []
  }
 ],
 "metadata": {
  "kernelspec": {
   "display_name": "Python 3",
   "language": "python",
   "name": "python3"
  },
  "language_info": {
   "codemirror_mode": {
    "name": "ipython",
    "version": 3
   },
   "file_extension": ".py",
   "mimetype": "text/x-python",
   "name": "python",
   "nbconvert_exporter": "python",
   "pygments_lexer": "ipython3",
   "version": "3.7.1"
  }
 },
 "nbformat": 4,
 "nbformat_minor": 2
}
